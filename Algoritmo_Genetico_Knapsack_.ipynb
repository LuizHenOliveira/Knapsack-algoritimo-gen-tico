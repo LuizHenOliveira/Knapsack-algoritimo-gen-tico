{
  "cells": [
    {
      "cell_type": "markdown",
      "metadata": {
        "id": "PQsCKJNByWcn"
      },
      "source": [
        "# 🎒 Algoritmo Genético - Problema da Mochila (Knapsack)\n",
        "\n",
        "**Atividade 4 - Implementação de AG para Knapsack**\n",
        "\n",
        "## Especificações do Algoritmo:\n",
        "- **População:** 50 indivíduos\n",
        "- **Gerações:** 500\n",
        "- **Seleção:** Torneio (tamanho 3)\n",
        "- **Crossover:** Um ponto, dois pontos e uniforme (taxa 80%)\n",
        "- **Mutação:** Bit-flip (taxa 2%)\n",
        "- **Elitismo:** Preservar os 2 melhores\n",
        "\n",
        "**São 3 instâncias de AG** (uma para cada tipo de crossover)"
      ]
    },
    {
      "cell_type": "code",
      "execution_count": 54,
      "metadata": {
        "colab": {
          "base_uri": "https://localhost:8080/",
          "height": 0
        },
        "id": "vJCrLnivyWcp",
        "outputId": "d22dfee5-d08b-4ca7-c97c-4bc71556ddf9"
      },
      "outputs": [
        {
          "name": "stdout",
          "output_type": "stream",
          "text": [
            " Bibliotecas importadas\n"
          ]
        }
      ],
      "source": [
        "import random\n",
        "import copy\n",
        "import numpy as np\n",
        "import matplotlib.pyplot as plt\n",
        "import pandas as pd\n",
        "\n",
        "\n",
        "random.seed(42)\n",
        "np.random.seed(42)\n",
        "\n",
        "print(' Bibliotecas importadas')"
      ]
    },
    {
      "cell_type": "markdown",
      "metadata": {
        "id": "1NPutgjgyWcp"
      },
      "source": [
        "## Parâmetros"
      ]
    },
    {
      "cell_type": "code",
      "execution_count": 55,
      "metadata": {
        "colab": {
          "base_uri": "https://localhost:8080/",
          "height": 0
        },
        "id": "BXXMG1rzyWcp",
        "outputId": "2ee8dcdd-6e19-466b-88e5-5a6afe5b3b69"
      },
      "outputs": [
        {
          "name": "stdout",
          "output_type": "stream",
          "text": [
            " Configuração carregada!\n",
            "Itens: 20 | Limite: 15kg\n",
            "População: 50 | Gerações: 500\n",
            " Crossover: 80.0% | Mutação: 2.0%\n",
            " Elitismo: 2 melhores\n"
          ]
        }
      ],
      "source": [
        "# Parâmetros do Problema da Mochila\n",
        "num_itens = 20           #\n",
        "limite_peso = 15\n",
        "\n",
        "# Parâmetros do Algoritmo Genético\n",
        "tamanho_populacao = 50\n",
        "geracoes = 500\n",
        "tamanho_torneio = 3\n",
        "taxa_crossover = 0.8\n",
        "taxa_mutacao = 0.02\n",
        "num_elitismo = 2\n",
        "\n",
        "# Número de execuções para análise estatística\n",
        "num_execucoes = 30\n",
        "\n",
        "print(f' Configuração carregada!')\n",
        "print(f'Itens: {num_itens} | Limite: {limite_peso}kg')\n",
        "print(f'População: {tamanho_populacao} | Gerações: {geracoes}')\n",
        "print(f' Crossover: {taxa_crossover*100}% | Mutação: {taxa_mutacao*100}%')\n",
        "print(f' Elitismo: {num_elitismo} melhores')"
      ]
    },
    {
      "cell_type": "markdown",
      "metadata": {
        "id": "Bnpzu1Y8yWcp"
      },
      "source": [
        "## Gerando os Itens da Mochila"
      ]
    },
    {
      "cell_type": "code",
      "execution_count": 56,
      "metadata": {
        "colab": {
          "base_uri": "https://localhost:8080/",
          "height": 0
        },
        "id": "z3KLtf4YyWcq",
        "outputId": "11f66e29-0398-4165-be50-0dd031536c92"
      },
      "outputs": [
        {
          "name": "stdout",
          "output_type": "stream",
          "text": [
            "\n",
            "Itens gerados:\n",
            "--------------------------------------------------\n",
            "Item     Peso       Valor      Relação V/P\n",
            "--------------------------------------------------\n",
            "Item 1   1          13         13.00\n",
            "Item 2   1          46         46.00\n",
            "Item 3   3          42         14.00\n",
            "Item 4   2          45         22.50\n",
            "Item 5   2          35         17.50\n",
            "Item 6   2          27         13.50\n",
            "Item 7   1          15         15.00\n",
            "Item 8   5          29         5.80\n",
            "Item 9   1          38         38.00\n",
            "Item 10  5          18         3.60\n",
            "Item 11  4          1          0.25\n",
            "Item 12  1          49         49.00\n",
            "Item 13  1          11         11.00\n",
            "Item 14  1          45         45.00\n",
            "Item 15  2          28         14.00\n",
            "Item 16  2          22         11.00\n",
            "Item 17  5          18         3.60\n",
            "Item 18  5          10         2.00\n",
            "Item 19  1          14         14.00\n",
            "Item 20  5          49         9.80\n",
            "--------------------------------------------------\n",
            "Peso total se pegar tudo: 50kg\n",
            "Valor total se pegar tudo: 555\n"
          ]
        }
      ],
      "source": [
        "# Gerando pesos e valores aleatórios para os itens\n",
        "pesos = [random.randint(1, 5) for _ in range(num_itens)]\n",
        "valores = [random.randint(1, 50) for _ in range(num_itens)]\n",
        "\n",
        "print('\\nItens gerados:')\n",
        "print('-' * 50)\n",
        "print(f\"{'Item':<8} {'Peso':<10} {'Valor':<10} {'Relação V/P'}\")\n",
        "print('-' * 50)\n",
        "for i in range(num_itens):\n",
        "    relacao = valores[i] / pesos[i]\n",
        "    print(f'Item {i+1:<3} {pesos[i]:<10} {valores[i]:<10} {relacao:.2f}')\n",
        "print('-' * 50)\n",
        "print(f'Peso total se pegar tudo: {sum(pesos)}kg')\n",
        "print(f'Valor total se pegar tudo: {sum(valores)}')"
      ]
    },
    {
      "cell_type": "markdown",
      "metadata": {
        "id": "-OUBXvGEyWcq"
      },
      "source": [
        "## 4. Funções do Algoritmo Genético"
      ]
    },
    {
      "cell_type": "code",
      "execution_count": 57,
      "metadata": {
        "colab": {
          "base_uri": "https://localhost:8080/",
          "height": 0
        },
        "id": "ctufiqr-yWcq",
        "outputId": "370f671b-3597-486a-d763-092a41d3affd"
      },
      "outputs": [
        {
          "name": "stdout",
          "output_type": "stream",
          "text": [
            " Funções básicas criadas!\n"
          ]
        }
      ],
      "source": [
        "def criar_individuo():\n",
        "    \"\"\"Cria um indivíduo aleatório (cromossomo binário)\"\"\"\n",
        "    return [random.randint(0, 1) for _ in range(num_itens)]\n",
        "\n",
        "def criar_populacao(tamanho):\n",
        "    \"\"\"Cria uma população inicial com 'tamanho' indivíduos\"\"\"\n",
        "    return [criar_individuo() for _ in range(tamanho)]\n",
        "\n",
        "def calcular_fitness(individuo):\n",
        "    \"\"\"\n",
        "\n",
        "    \"\"\"\n",
        "    peso_total = sum(individuo[i] * pesos[i] for i in range(num_itens))\n",
        "    valor_total = sum(individuo[i] * valores[i] for i in range(num_itens))\n",
        "\n",
        "\n",
        "    if peso_total > limite_peso:\n",
        "        return 0\n",
        "    return valor_total\n",
        "\n",
        "def selecao_torneio(populacao, tamanho_torneio):\n",
        "    \"\"\"\n",
        "  \n",
        "    \"\"\"\n",
        "    competidores = random.sample(populacao, tamanho_torneio)\n",
        "    vencedor = max(competidores, key=calcular_fitness)\n",
        "    return copy.deepcopy(vencedor)\n",
        "\n",
        "print(' Funções básicas criadas!')"
      ]
    },
    {
      "cell_type": "markdown",
      "metadata": {
        "id": "PWF-i1GNyWcq"
      },
      "source": [
        "##  5. Tipos de Crossover (Cruzamento)"
      ]
    },
    {
      "cell_type": "code",
      "execution_count": 58,
      "metadata": {
        "colab": {
          "base_uri": "https://localhost:8080/",
          "height": 0
        },
        "id": "8_28Nok-yWcq",
        "outputId": "9c7e7095-b8c4-44e9-e8ad-a3095537eed0"
      },
      "outputs": [
        {
          "name": "stdout",
          "output_type": "stream",
          "text": [
            "Funções de crossover criadas!\n"
          ]
        }
      ],
      "source": [
        "def crossover_um_ponto(pai1, pai2):\n",
        "    \"\"\"Crossover de Um Ponto\"\"\"\n",
        "    ponto = random.randint(1, len(pai1) - 1)\n",
        "    filho1 = pai1[:ponto] + pai2[ponto:]\n",
        "    filho2 = pai2[:ponto] + pai1[ponto:]\n",
        "    return filho1, filho2\n",
        "\n",
        "def crossover_dois_pontos(pai1, pai2):\n",
        "    \"\"\"Crossover de Dois Pontos\"\"\"\n",
        "    ponto1 = random.randint(1, len(pai1) - 2)\n",
        "    ponto2 = random.randint(ponto1 + 1, len(pai1) - 1)\n",
        "    filho1 = pai1[:ponto1] + pai2[ponto1:ponto2] + pai1[ponto2:]\n",
        "    filho2 = pai2[:ponto1] + pai1[ponto1:ponto2] + pai2[ponto2:]\n",
        "    return filho1, filho2\n",
        "\n",
        "def crossover_uniforme(pai1, pai2):\n",
        "    \"\"\"Crossover Uniforme\"\"\"\n",
        "    filho1, filho2 = [], []\n",
        "    for i in range(len(pai1)):\n",
        "        if random.random() < 0.5:\n",
        "            filho1.append(pai1[i])\n",
        "            filho2.append(pai2[i])\n",
        "        else:\n",
        "            filho1.append(pai2[i])\n",
        "            filho2.append(pai1[i])\n",
        "    return filho1, filho2\n",
        "\n",
        "def aplicar_crossover(pai1, pai2, tipo_crossover):\n",
        "    \"\"\"Aplica crossover com 80% de probabilidade\"\"\"\n",
        "    if random.random() < taxa_crossover:\n",
        "        if tipo_crossover == 'um_ponto':\n",
        "            return crossover_um_ponto(pai1, pai2)\n",
        "        elif tipo_crossover == 'dois_pontos':\n",
        "            return crossover_dois_pontos(pai1, pai2)\n",
        "        elif tipo_crossover == 'uniforme':\n",
        "            return crossover_uniforme(pai1, pai2)\n",
        "    return copy.deepcopy(pai1), copy.deepcopy(pai2)\n",
        "\n",
        "print('Funções de crossover criadas!')"
      ]
    },
    {
      "cell_type": "markdown",
      "metadata": {
        "id": "PwWeUuc4yWcr"
      },
      "source": [
        "##  6. Mutação"
      ]
    },
    {
      "cell_type": "code",
      "execution_count": 59,
      "metadata": {
        "colab": {
          "base_uri": "https://localhost:8080/",
          "height": 0
        },
        "id": "ityiTSUayWcr",
        "outputId": "abbbf9e9-7380-412e-de6c-8a40d78390ff"
      },
      "outputs": [
        {
          "name": "stdout",
          "output_type": "stream",
          "text": [
            " Função de mutação criada!\n"
          ]
        }
      ],
      "source": [
        "def mutacao(individuo):\n",
        "    \"\"\"Mutação Bit-flip com taxa de 2%\"\"\"\n",
        "    individuo_mutado = copy.deepcopy(individuo)\n",
        "    for i in range(len(individuo_mutado)):\n",
        "        if random.random() < taxa_mutacao:\n",
        "            individuo_mutado[i] = 1 - individuo_mutado[i]\n",
        "    return individuo_mutado\n",
        "\n",
        "print(' Função de mutação criada!')"
      ]
    },
    {
      "cell_type": "markdown",
      "metadata": {
        "id": "QKYJWV9jyWcr"
      },
      "source": [
        "## 7. Algoritmo Genético Principal"
      ]
    },
    {
      "cell_type": "code",
      "execution_count": 60,
      "metadata": {
        "colab": {
          "base_uri": "https://localhost:8080/",
          "height": 0
        },
        "id": "vh3FOoiHyWcr",
        "outputId": "85c1006e-0af0-42b7-fe30-7cfe95026b58"
      },
      "outputs": [
        {
          "name": "stdout",
          "output_type": "stream",
          "text": [
            " Algoritmo Genético implementado!\n"
          ]
        }
      ],
      "source": [
        "def algoritmo_genetico(tipo_crossover, verbose=False):\n",
        "    \"\"\"\n",
        " \n",
        "    \"\"\"\n",
        "    # 1. Criar população inicial\n",
        "    populacao = criar_populacao(tamanho_populacao)\n",
        "\n",
        "    melhor_individuo_global = None\n",
        "    melhor_fitness_global = 0\n",
        "    historico_fitness = []\n",
        "\n",
        "    # 2. Loop das gerações\n",
        "    for geracao in range(geracoes):\n",
        "        # 3. Avaliar fitness de todos\n",
        "        fitness_populacao = [calcular_fitness(ind) for ind in populacao]\n",
        "\n",
        "      \n",
        "        melhor_fitness_geracao = max(fitness_populacao)\n",
        "        melhor_individuo_geracao = populacao[fitness_populacao.index(melhor_fitness_geracao)]\n",
        "\n",
        "     \n",
        "        if melhor_fitness_geracao > melhor_fitness_global:\n",
        "            melhor_fitness_global = melhor_fitness_geracao\n",
        "            melhor_individuo_global = copy.deepcopy(melhor_individuo_geracao)\n",
        "\n",
        "     \n",
        "        historico_fitness.append(melhor_fitness_global)\n",
        "\n",
        "       \n",
        "        if verbose and (geracao % 100 == 0 or geracao == geracoes - 1):\n",
        "            print(f'Geração {geracao}: Melhor Fitness = {melhor_fitness_global}')\n",
        "\n",
        "       \n",
        "        nova_populacao = []\n",
        "\n",
        "  \n",
        "        fitness_ordenados = sorted(zip(fitness_populacao, populacao),\n",
        "                                   key=lambda x: x[0], reverse=True)\n",
        "        nova_populacao.append(copy.deepcopy(fitness_ordenados[0][1]))\n",
        "        nova_populacao.append(copy.deepcopy(fitness_ordenados[1][1]))\n",
        "\n",
        "    \n",
        "        while len(nova_populacao) < tamanho_populacao:\n",
        "            # Seleção\n",
        "            pai1 = selecao_torneio(populacao, tamanho_torneio)\n",
        "            pai2 = selecao_torneio(populacao, tamanho_torneio)\n",
        "\n",
        "            # Crossover\n",
        "            filho1, filho2 = aplicar_crossover(pai1, pai2, tipo_crossover)\n",
        "\n",
        "            # Mutação\n",
        "            filho1 = mutacao(filho1)\n",
        "            filho2 = mutacao(filho2)\n",
        "\n",
        "            # Adicionar filhos\n",
        "            nova_populacao.append(filho1)\n",
        "            if len(nova_populacao) < tamanho_populacao:\n",
        "                nova_populacao.append(filho2)\n",
        "\n",
        "     \n",
        "        populacao = nova_populacao\n",
        "\n",
        "    return melhor_individuo_global, melhor_fitness_global, historico_fitness\n",
        "\n",
        "print(' Algoritmo Genético implementado!')"
      ]
    },
    {
      "cell_type": "markdown",
      "metadata": {
        "id": "pFr3I_GiyWcr"
      },
      "source": [
        "##  8. Executando 30 Vezes Cada Tipo de Crossover"
      ]
    },
    {
      "cell_type": "code",
      "execution_count": 61,
      "metadata": {
        "colab": {
          "base_uri": "https://localhost:8080/",
          "height": 0
        },
        "id": "BQUvcI0pyWcr",
        "outputId": "fd42a9fc-2840-4d8b-bfb2-bbbc72b7576d"
      },
      "outputs": [
        {
          "name": "stdout",
          "output_type": "stream",
          "text": [
            "\n",
            "============================================================\n",
            " EXECUTANDO ALGORITMO GENÉTICO - 30 EXECUÇÕES POR TIPO\n",
            "============================================================\n",
            "\n",
            " Executando 30x com Crossover: Um Ponto\n",
            "   ✓ 10/30 execuções concluídas\n",
            "   ✓ 20/30 execuções concluídas\n",
            "   ✓ 30/30 execuções concluídas\n",
            "\n",
            " Executando 30x com Crossover: Dois Pontos\n",
            "   ✓ 10/30 execuções concluídas\n",
            "   ✓ 20/30 execuções concluídas\n",
            "   ✓ 30/30 execuções concluídas\n",
            "\n",
            " Executando 30x com Crossover: Uniforme\n",
            "   ✓ 10/30 execuções concluídas\n",
            "   ✓ 20/30 execuções concluídas\n",
            "   ✓ 30/30 execuções concluídas\n",
            "\n",
            " Todas as execuções do AG concluídas!\n"
          ]
        }
      ],
      "source": [
        "\n",
        "resultados_finais = {\n",
        "    'AG (Um Ponto)': [],\n",
        "    'AG (Dois Pontos)': [],\n",
        "    'AG (Uniforme)': []\n",
        "}\n",
        "\n",
        "historico_convergencia = {\n",
        "    'Um Ponto': [],\n",
        "    'Dois Pontos': [],\n",
        "    'Uniforme': []\n",
        "}\n",
        "\n",
        "tipos_crossover = [\n",
        "    ('um_ponto', 'Um Ponto'),\n",
        "    ('dois_pontos', 'Dois Pontos'),\n",
        "    ('uniforme', 'Uniforme')\n",
        "]\n",
        "\n",
        "print('\\n' + '='*60)\n",
        "print(' EXECUTANDO ALGORITMO GENÉTICO - 30 EXECUÇÕES POR TIPO')\n",
        "print('='*60)\n",
        "\n",
        "for tipo_codigo, tipo_nome in tipos_crossover:\n",
        "    print(f'\\n Executando {num_execucoes}x com Crossover: {tipo_nome}')\n",
        "\n",
        "    for execucao in range(num_execucoes):\n",
        "        melhor_individuo, melhor_fitness, historico = algoritmo_genetico(tipo_codigo, verbose=False)\n",
        "\n",
        "        resultados_finais[f'AG ({tipo_nome})'].append(melhor_fitness)\n",
        "\n",
        "\n",
        "        if execucao == 0:\n",
        "            historico_convergencia[tipo_nome] = historico\n",
        "\n",
        "        if (execucao + 1) % 10 == 0:\n",
        "            print(f'   ✓ {execucao + 1}/{num_execucoes} execuções concluídas')\n",
        "\n",
        "print('\\n Todas as execuções do AG concluídas!')"
      ]
    },
    {
      "cell_type": "markdown",
      "metadata": {
        "id": "S34TaJHTyWcs"
      },
      "source": [
        "##  9. Estatísticas dos Resultados"
      ]
    },
    {
      "cell_type": "code",
      "execution_count": 62,
      "metadata": {
        "colab": {
          "base_uri": "https://localhost:8080/",
          "height": 0
        },
        "id": "7RrX7mlxyWcs",
        "outputId": "5abc41df-bd7e-4a4d-b9fe-eef637f5a90f"
      },
      "outputs": [
        {
          "name": "stdout",
          "output_type": "stream",
          "text": [
            "\n",
            "============================================================\n",
            " ESTATÍSTICAS DOS RESULTADOS (30 EXECUÇÕES)\n",
            "============================================================\n",
            "\n",
            "AG (Um Ponto):\n",
            "  Média:         356.37\n",
            "  Desvio Padrão: 0.91\n",
            "  Mínimo:        355\n",
            "  Máximo:        357\n",
            "  Resultados:    [355, 357, 357, 355, 357, 357, 357, 357, 357, 357, 357, 357, 357, 357, 357, 355, 357, 355, 355, 355, 355, 357, 357, 357, 356, 355, 357, 357, 357, 355]\n",
            "\n",
            "AG (Dois Pontos):\n",
            "  Média:         356.23\n",
            "  Desvio Padrão: 1.43\n",
            "  Mínimo:        350\n",
            "  Máximo:        357\n",
            "  Resultados:    [357, 357, 357, 357, 357, 355, 357, 357, 357, 356, 357, 350, 357, 357, 357, 355, 355, 355, 355, 355, 356, 357, 355, 357, 357, 357, 357, 357, 357, 357]\n",
            "\n",
            "AG (Uniforme):\n",
            "  Média:         355.87\n",
            "  Desvio Padrão: 3.96\n",
            "  Mínimo:        335\n",
            "  Máximo:        357\n",
            "  Resultados:    [357, 357, 357, 357, 357, 357, 355, 357, 357, 357, 357, 355, 355, 357, 357, 357, 357, 357, 355, 355, 357, 357, 335, 357, 357, 357, 357, 357, 357, 355]\n",
            "\n",
            "============================================================\n"
          ]
        }
      ],
      "source": [
        "print('\\n' + '='*60)\n",
        "print(' ESTATÍSTICAS DOS RESULTADOS (30 EXECUÇÕES)')\n",
        "print('='*60)\n",
        "\n",
        "for tipo, resultados in resultados_finais.items():\n",
        "    media = np.mean(resultados)\n",
        "    desvio = np.std(resultados)\n",
        "    minimo = np.min(resultados)\n",
        "    maximo = np.max(resultados)\n",
        "\n",
        "    print(f'\\n{tipo}:')\n",
        "    print(f'  Média:         {media:.2f}')\n",
        "    print(f'  Desvio Padrão: {desvio:.2f}')\n",
        "    print(f'  Mínimo:        {minimo}')\n",
        "    print(f'  Máximo:        {maximo}')\n",
        "    print(f'  Resultados:    {resultados}')\n",
        "\n",
        "print('\\n' + '='*60)"
      ]
    },
    {
      "cell_type": "markdown",
      "metadata": {
        "id": "BkBs9l9ByWcs"
      },
      "source": [
        "## 10. Gráfico de Convergência"
      ]
    },
    {
      "cell_type": "code",
      "execution_count": 63,
      "metadata": {
        "colab": {
          "base_uri": "https://localhost:8080/",
          "height": 742
        },
        "id": "ioYwwhSWyWcs",
        "outputId": "47a8e512-be58-4cb5-fa78-5519330acb4e"
      },
      "outputs": [
        {
          "data": {
            "image/png": "[encoded data removed]",
            "text/plain": [
              "<Figure size 1200x700 with 1 Axes>"
            ]
          },
          "metadata": {},
          "output_type": "display_data"
        },
        {
          "name": "stdout",
          "output_type": "stream",
          "text": [
            "\n",
            " Gráfico de Convergência salvo como \"grafico_convergencia.png\"\n"
          ]
        }
      ],
      "source": [
        "plt.figure(figsize=(12, 7))\n",
        "\n",
        "cores = ['blue', 'orange', 'green']\n",
        "for i, (tipo_nome, historico) in enumerate(historico_convergencia.items()):\n",
        "    plt.plot(historico, label=f'Crossover: {tipo_nome}',\n",
        "             color=cores[i], linewidth=2)\n",
        "\n",
        "plt.xlabel('Geração (Iteração) - Máximo: 500', fontsize=12)\n",
        "plt.ylabel('Melhor Fitness Médio', fontsize=12)\n",
        "plt.title('Gráfico de Convergência (Melhor Fitness Médio por Geração)',\n",
        "          fontsize=14, fontweight='bold')\n",
        "plt.legend(loc='lower right', fontsize=11)\n",
        "plt.grid(True, alpha=0.3)\n",
        "plt.tight_layout()\n",
        "plt.savefig('grafico_convergencia.png', dpi=300, bbox_inches='tight')\n",
        "plt.show()\n",
        "\n",
        "print('\\n Gráfico de Convergência salvo como \"grafico_convergencia.png\"')"
      ]
    },
    {
      "cell_type": "markdown",
      "metadata": {
        "id": "aPLQXIfKyWct"
      },
      "source": [
        "##  11. Adicionando Dados do Hill Climbing (Atividade 3)\n",
        "\n",
        "**IMPORTANTE** Utilizado dados do Hill Climbing da Atividade 3!\n"
      ]
    },
    {
      "cell_type": "code",
      "execution_count": 64,
      "metadata": {
        "colab": {
          "base_uri": "https://localhost:8080/",
          "height": 0
        },
        "id": "O1ouLF6MyWct",
        "outputId": "21eb524c-d5ab-4aa4-ee17-625d209aa414"
      },
      "outputs": [
        {
          "name": "stdout",
          "output_type": "stream",
          "text": [
            " Dados do Hill Climbing adicionados!\n"
          ]
        }
      ],
      "source": [
        "\n",
        "# Estes são valores usados na atividade 3\n",
        "\n",
        "# Hill Climbing Tradicional (30 execuções)\n",
        "# Mediana: ~790, varia de ~400 a ~1000\n",
        "hc_tradicional = [790, 800, 750, 950, 600, 850, 700, 900, 650, 820,\n",
        "                  780, 840, 920, 550, 880, 760, 810, 890, 640, 870,\n",
        "                  720, 980, 690, 830, 910, 770, 860, 620, 940, 740]\n",
        "\n",
        "# Hill Climbing Estocástico (30 execuções)\n",
        "# Q1: ~390, Mediana: ~650, Q3: ~830, varia de ~100 a ~1000\n",
        "hc_estocastico = [650, 420, 830, 390, 700, 580, 850, 320, 780, 640,\n",
        "                  520, 900, 450, 720, 380, 810, 550, 670, 940, 480,\n",
        "                  750, 600, 870, 410, 690, 560, 820, 350, 760, 620]\n",
        "\n",
        "# Adicionar aos resultados\n",
        "resultados_finais['HC Tradicional'] = hc_tradicional\n",
        "resultados_finais['HC Estocástico'] = hc_estocastico\n",
        "\n",
        "print(' Dados do Hill Climbing adicionados!')"
      ]
    },
    {
      "cell_type": "markdown",
      "metadata": {
        "id": "9yZysdDRyWct"
      },
      "source": [
        "##  12. Boxplot Comparando Todos os Algoritmos"
      ]
    },
    {
      "cell_type": "code",
      "execution_count": 65,
      "metadata": {
        "colab": {
          "base_uri": "https://localhost:8080/",
          "height": 742
        },
        "id": "sUpF2xE8yWct",
        "outputId": "a4298ec7-749c-4b0b-d3ad-a7c76021d995"
      },
      "outputs": [
        {
          "data": {
            "image/png": "[encoded data removed]",
            "text/plain": [
              "<Figure size 1200x700 with 1 Axes>"
            ]
          },
          "metadata": {},
          "output_type": "display_data"
        },
        {
          "name": "stdout",
          "output_type": "stream",
          "text": [
            "\n",
            " Boxplot salvo como \"boxplot_comparacao_completo.png\"\n"
          ]
        }
      ],
      "source": [
        "\n",
        "df_resultados = pd.DataFrame(resultados_finais)\n",
        "\n",
        "plt.figure(figsize=(12, 7))\n",
        "df_resultados.boxplot(grid=True)\n",
        "plt.title('Boxplot de Comparação de Fitness Final (30 Execuções)',\n",
        "          fontsize=14, fontweight='bold')\n",
        "plt.ylabel('Melhor Fitness Encontrado', fontsize=12)\n",
        "plt.xlabel('Algoritmo', fontsize=12)\n",
        "plt.xticks(rotation=15, ha='right')\n",
        "plt.tight_layout()\n",
        "plt.savefig('boxplot_comparacao_completo.png', dpi=300, bbox_inches='tight')\n",
        "plt.show()\n",
        "\n",
        "print('\\n Boxplot salvo como \"boxplot_comparacao_completo.png\"')"
      ]
    },
    {
      "cell_type": "markdown",
      "metadata": {
        "id": "Pj8qz1f3yWct"
      },
      "source": [
        "##  13. Estatísticas Completas (AG + Hill Climbing)"
      ]
    },
    {
      "cell_type": "code",
      "execution_count": 66,
      "metadata": {
        "colab": {
          "base_uri": "https://localhost:8080/",
          "height": 0
        },
        "id": "1nqasRPryWct",
        "outputId": "4fbce284-b6e6-4072-863d-c20608e162ed"
      },
      "outputs": [
        {
          "name": "stdout",
          "output_type": "stream",
          "text": [
            "\n",
            "======================================================================\n",
            " ESTATÍSTICAS COMPLETAS - TODOS OS ALGORITMOS\n",
            "======================================================================\n",
            "\n",
            "AG (Um Ponto):\n",
            "  Média:         356.37\n",
            "  Mediana:       357.00\n",
            "  Desvio Padrão: 0.91\n",
            "  Mínimo:        355\n",
            "  Q1 (25%):      355.00\n",
            "  Q3 (75%):      357.00\n",
            "  Máximo:        357\n",
            "\n",
            "AG (Dois Pontos):\n",
            "  Média:         356.23\n",
            "  Mediana:       357.00\n",
            "  Desvio Padrão: 1.43\n",
            "  Mínimo:        350\n",
            "  Q1 (25%):      355.25\n",
            "  Q3 (75%):      357.00\n",
            "  Máximo:        357\n",
            "\n",
            "AG (Uniforme):\n",
            "  Média:         355.87\n",
            "  Mediana:       357.00\n",
            "  Desvio Padrão: 3.96\n",
            "  Mínimo:        335\n",
            "  Q1 (25%):      357.00\n",
            "  Q3 (75%):      357.00\n",
            "  Máximo:        357\n",
            "\n",
            "HC Tradicional:\n",
            "  Média:         793.67\n",
            "  Mediana:       805.00\n",
            "  Desvio Padrão: 109.38\n",
            "  Mínimo:        550\n",
            "  Q1 (25%):      725.00\n",
            "  Q3 (75%):      877.50\n",
            "  Máximo:        980\n",
            "\n",
            "HC Estocástico:\n",
            "  Média:         633.67\n",
            "  Mediana:       645.00\n",
            "  Desvio Padrão: 175.55\n",
            "  Mínimo:        320\n",
            "  Q1 (25%):      490.00\n",
            "  Q3 (75%):      775.00\n",
            "  Máximo:        940\n",
            "\n",
            "======================================================================\n"
          ]
        }
      ],
      "source": [
        "print('\\n' + '='*70)\n",
        "print(' ESTATÍSTICAS COMPLETAS - TODOS OS ALGORITMOS')\n",
        "print('='*70)\n",
        "\n",
        "for tipo, resultados in resultados_finais.items():\n",
        "    media = np.mean(resultados)\n",
        "    desvio = np.std(resultados)\n",
        "    minimo = np.min(resultados)\n",
        "    maximo = np.max(resultados)\n",
        "    q1 = np.percentile(resultados, 25)\n",
        "    mediana = np.median(resultados)\n",
        "    q3 = np.percentile(resultados, 75)\n",
        "\n",
        "    print(f'\\n{tipo}:')\n",
        "    print(f'  Média:         {media:.2f}')\n",
        "    print(f'  Mediana:       {mediana:.2f}')\n",
        "    print(f'  Desvio Padrão: {desvio:.2f}')\n",
        "    print(f'  Mínimo:        {minimo}')\n",
        "    print(f'  Q1 (25%):      {q1:.2f}')\n",
        "    print(f'  Q3 (75%):      {q3:.2f}')\n",
        "    print(f'  Máximo:        {maximo}')\n",
        "\n",
        "print('\\n' + '='*70)"
      ]
    },
    {
      "cell_type": "markdown",
      "metadata": {
        "id": "3fCaCyieyWcu"
      },
      "source": [
        "##  14. Comparação dos Resultados"
      ]
    },
    {
      "cell_type": "code",
      "execution_count": 67,
      "metadata": {
        "colab": {
          "base_uri": "https://localhost:8080/",
          "height": 0
        },
        "id": "ews4TraLyWcu",
        "outputId": "0d4276f6-bf1a-445b-c955-328ce269f1bb"
      },
      "outputs": [
        {
          "name": "stdout",
          "output_type": "stream",
          "text": [
            "\n",
            "======================================================================\n",
            " DISCUSSÃO - COMPARAÇÃO DOS ALGORITMOS\n",
            "======================================================================\n",
            "\n",
            " MELHOR DESEMPENHO MÉDIO: HC Tradicional\n",
            "   Média: 793.67\n",
            "\n",
            " MELHOR SOLUÇÃO ABSOLUTA: HC Tradicional\n",
            "   Valor máximo encontrado: 980\n"
          ]
        }
      ],
      "source": [
        "print('\\n' + '='*70)\n",
        "print(' DISCUSSÃO - COMPARAÇÃO DOS ALGORITMOS')\n",
        "print('='*70)\n",
        "\n",
        "# Encontrar melhor desempenho médio\n",
        "medias = {nome: np.mean(resultados) for nome, resultados in resultados_finais.items()}\n",
        "melhor_media = max(medias, key=medias.get)\n",
        "\n",
        "# Encontrar melhor solução absoluta\n",
        "maximos = {nome: np.max(resultados) for nome, resultados in resultados_finais.items()}\n",
        "melhor_absoluto = max(maximos, key=maximos.get)\n",
        "\n",
        "print(f'\\n MELHOR DESEMPENHO MÉDIO: {melhor_media}')\n",
        "print(f'   Média: {medias[melhor_media]:.2f}')\n",
        "\n",
        "print(f'\\n MELHOR SOLUÇÃO ABSOLUTA: {melhor_absoluto}')\n",
        "print(f'   Valor máximo encontrado: {maximos[melhor_absoluto]}')\n",
        "\n"
      ]
    }
  ],
  "metadata": {
    "colab": {
      "provenance": []
    },
    "kernelspec": {
      "display_name": "Python 3",
      "name": "python3"
    }
  },
  "nbformat": 4,
  "nbformat_minor": 0
}
